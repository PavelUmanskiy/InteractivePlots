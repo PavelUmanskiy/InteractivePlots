{
 "cells": [
  {
   "cell_type": "code",
   "execution_count": 109,
   "metadata": {},
   "outputs": [],
   "source": [
    "from datetime import datetime, timedelta\n",
    "from struct import unpack\n",
    "\n",
    "from dateutil.tz import tzoffset\n",
    "\n",
    "\n",
    "def convert_datetimeoffset_to_datetime(bytes_: bytes) -> datetime:\n",
    "    (db_ticks, days, tz_minutes, _) = unpack(\"<QI2H\", bytes_)\n",
    "    seconds, milliseconds = divmod(db_ticks, 10**7)\n",
    "    milliseconds = milliseconds / 10 ** 4\n",
    "    offset = timedelta(minutes=tz_minutes).total_seconds()\n",
    "    tzname = \"UTC\" if offset == 0 else \"ANY\"\n",
    "    sql_epoch = datetime(1900, 1, 1, 0, 0, 0, tzinfo=tzoffset(tzname, offset))\n",
    "    td = timedelta(\n",
    "        days=days,\n",
    "        seconds=seconds,\n",
    "        milliseconds=milliseconds\n",
    "    )\n",
    "    return sql_epoch + td"
   ]
  },
  {
   "cell_type": "code",
   "execution_count": 110,
   "metadata": {},
   "outputs": [
    {
     "name": "stdout",
     "output_type": "stream",
     "text": [
      "2023-12-19 15:25:28.321000+00:00\n",
      "2023-12-19 15:27:00.698000+00:00\n",
      "2023-12-19 15:43:27.820000+00:00\n",
      "2023-12-19 18:18:58.177000+00:00\n"
     ]
    }
   ],
   "source": [
    "bytes__ = [\n",
    "    b'\\x10_uI\\x81\\x00\\x00\\x00\\xdd\\xb0\\x00\\x00\\x00\\x00\\x07\\xe0',\n",
    "    b'\\xa0\\xfb\\x84\\x80\\x81\\x00\\x00\\x00\\xdd\\xb0\\x00\\x00\\x00\\x00\\x07\\xe0',\n",
    "    b'\\xc0\\xd8\\xe3\\xcc\\x83\\x00\\x00\\x00\\xdd\\xb0\\x00\\x00\\x00\\x00\\x07\\xe0' ,\n",
    "    b'\\x10W7\\x86\\x99\\x00\\x00\\x00\\xdd\\xb0\\x00\\x00\\x00\\x00\\x07\\xe0'\n",
    "]\n",
    "for b in bytes__:\n",
    "    datetime_obj = convert_datetimeoffset_to_datetime(bytes_=b)\n",
    "    print(datetime_obj)"
   ]
  }
 ],
 "metadata": {
  "kernelspec": {
   "display_name": "jupyter_venv",
   "language": "python",
   "name": "python3"
  },
  "language_info": {
   "codemirror_mode": {
    "name": "ipython",
    "version": 3
   },
   "file_extension": ".py",
   "mimetype": "text/x-python",
   "name": "python",
   "nbconvert_exporter": "python",
   "pygments_lexer": "ipython3",
   "version": "3.11.0"
  }
 },
 "nbformat": 4,
 "nbformat_minor": 2
}
